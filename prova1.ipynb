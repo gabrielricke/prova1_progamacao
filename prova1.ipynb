{
  "nbformat": 4,
  "nbformat_minor": 0,
  "metadata": {
    "colab": {
      "provenance": []
    },
    "kernelspec": {
      "name": "python3",
      "display_name": "Python 3"
    },
    "language_info": {
      "name": "python"
    }
  },
  "cells": [
    {
      "cell_type": "code",
      "source": [
        "#QUESTAO 1\n",
        "num1 = int(input(\"Digite o primeiro número: \"))\n",
        "num2 = int(input(\"Digite o segundo número: \"))\n",
        "num3 = int(input(\"Digite o terceiro número: \"))\n",
        "numeros = [num1, num2, num3]\n",
        "numeros.sort()\n",
        "print(\"Números em ordem crescente:\", numeros[0], numeros[1], numeros[2])"
      ],
      "metadata": {
        "id": "o8Dv3DYy-Rde"
      },
      "execution_count": null,
      "outputs": []
    },
    {
      "cell_type": "code",
      "source": [
        "#QUESTAO 2\n",
        "for i in range(100):\n",
        "    print(i, end=\", \")"
      ],
      "metadata": {
        "collapsed": true,
        "id": "pUh1M3VW-Tjk"
      },
      "execution_count": null,
      "outputs": []
    },
    {
      "cell_type": "code",
      "source": [
        "#QUESTAO 3\n",
        "nome = input(\"convidado, digite seu nome: \")\n",
        "print(f\"seja bem-vindo, {nome}\")"
      ],
      "metadata": {
        "id": "6hvdUMdK-eMV"
      },
      "execution_count": null,
      "outputs": []
    },
    {
      "cell_type": "code",
      "source": [
        "#QUESTAO 4\n",
        "numero = int(input(\"Digite um número: \"))\n",
        "eh_primo = True\n",
        "if numero <= 1:\n",
        "    eh_primo = False\n",
        "else:\n",
        "    for i in range(2, numero):\n",
        "        if numero % i == 0:\n",
        "            eh_primo = False\n",
        "            break\n",
        "if eh_primo:\n",
        "    print(\"Este número é Primo\")\n",
        "else:\n",
        "    print(\"Este número não é Primo\")"
      ],
      "metadata": {
        "id": "lkhbZyj9-vGn"
      },
      "execution_count": null,
      "outputs": []
    },
    {
      "cell_type": "code",
      "source": [
        "#QUESTAO 5\n",
        "n = int(input(\"Fale a quatidade total de notas: \"))\n",
        "notas = []\n",
        "for _ in range(n):\n",
        "    nota = float(input(\"digite as notas: \"))\n",
        "    notas.append(nota)\n",
        "media = sum(notas) / n\n",
        "limite_superior = media * 1.10\n",
        "limite_inferior = media * 0.90\n",
        "acima_10 = 0\n",
        "abaixo_10 = 0\n",
        "for nota in notas:\n",
        "    if nota > limite_superior:\n",
        "        acima_10 += 1\n",
        "    elif nota < limite_inferior:\n",
        "        abaixo_10 += 1\n",
        "print(f\"Média: {media:.2f}\")\n",
        "print(\"n° de notas 10% acima da média:\", acima_10)\n",
        "print(\"n° de notas 10% 1abaixo da média:\", abaixo_10)"
      ],
      "metadata": {
        "id": "SU6Ughnz_CQv"
      },
      "execution_count": null,
      "outputs": []
    },
    {
      "cell_type": "code",
      "source": [
        "#QUESTAO 6\n",
        "texto = input(\"Digite uma palavra ou frase: \")\n",
        "invertido = texto[::-1]\n",
        "print(invertido)"
      ],
      "metadata": {
        "id": "9Kn__dk2_RZl"
      },
      "execution_count": null,
      "outputs": []
    },
    {
      "cell_type": "code",
      "source": [
        "#QUESTAO 7\n",
        "texto = input('coloque a palavra ou frase:').strip()\n",
        "caractere_antigo = input('coloque o caractere que deseja trocar: ').strip()\n",
        "caractere_novo = input('coloque o caractere pelo qual deseja trocar: ').strip()\n",
        "texto_modificado = texto.replace(caractere_antigo, caractere_novo)\n",
        "print('texto alterado: ', texto_modificado)"
      ],
      "metadata": {
        "id": "GPppZZR2_d0U"
      },
      "execution_count": null,
      "outputs": []
    },
    {
      "cell_type": "code",
      "source": [
        "#QUESTAO 8\n",
        "texto = input('coloque a palavra parra identificação de índice: ').strip()\n",
        "caractere = input('coloque o caractere que deseja achar o indice: ').strip()\n",
        "indice = texto.find(caractere)\n",
        "print('local do indice: ',indice)\n"
      ],
      "metadata": {
        "id": "VMApJPLq_mq-"
      },
      "execution_count": null,
      "outputs": []
    },
    {
      "cell_type": "code",
      "source": [
        "#QUESTAO 9\n",
        "x = int(input('insira o primeiro valor: '))\n",
        "y = int(input('insira o segundo valor: '))\n",
        "inicio = min(x, y)\n",
        "fim = max(x, y)\n",
        "for i in range(inicio + 1, fim):\n",
        "    if i % 5 == 2 or i % 5 == 3:\n",
        "        print(i, end=\" \")"
      ],
      "metadata": {
        "id": "oUUxpPW5_rWO"
      },
      "execution_count": null,
      "outputs": []
    },
    {
      "cell_type": "code",
      "source": [
        "#QUESTAO 10\n",
        "n = int(input(\"Quantos números você deseja digitar? \"))\n",
        "numeros = []\n",
        "for i in range(n):\n",
        "    num = int(input(f\"Digite o {i+1}º número: \"))\n",
        "    numeros.append(num)\n",
        "\n",
        "    print(\"\\na) Números na ordem inversa:\")\n",
        "for num in reversed(numeros):\n",
        "    print(num)\n",
        "\n",
        "    print(\"\\nb) Números em ordem decrescente:\")\n",
        "for num in sorted(numeros, reverse=True):\n",
        "    print(num)"
      ],
      "metadata": {
        "id": "vYds4G8n_sGc"
      },
      "execution_count": null,
      "outputs": []
    }
  ]
}